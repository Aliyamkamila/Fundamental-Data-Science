{
  "nbformat": 4,
  "nbformat_minor": 0,
  "metadata": {
    "colab": {
      "provenance": [],
      "authorship_tag": "ABX9TyPZZlkdDl1ScEpfFhmI7pRB",
      "include_colab_link": true
    },
    "kernelspec": {
      "name": "python3",
      "display_name": "Python 3"
    },
    "language_info": {
      "name": "python"
    }
  },
  "cells": [
    {
      "cell_type": "markdown",
      "metadata": {
        "id": "view-in-github",
        "colab_type": "text"
      },
      "source": [
        "<a href=\"https://colab.research.google.com/github/Aliyamkamila/Fundamental-Data-Science/blob/main/introduction_to_numpy.ipynb\" target=\"_parent\"><img src=\"https://colab.research.google.com/assets/colab-badge.svg\" alt=\"Open In Colab\"/></a>"
      ]
    },
    {
      "cell_type": "markdown",
      "source": [
        "# Numpy"
      ],
      "metadata": {
        "id": "2UNS3WQrIfGK"
      }
    },
    {
      "cell_type": "code",
      "source": [
        "import numpy as np\n"
      ],
      "metadata": {
        "id": "C8O-w3pCIiMi"
      },
      "execution_count": 1,
      "outputs": []
    },
    {
      "cell_type": "markdown",
      "source": [
        "Array dengan rank 1 dan panjang 3."
      ],
      "metadata": {
        "id": "YAF07-erI-N_"
      }
    },
    {
      "cell_type": "code",
      "source": [
        "[1,2,3]"
      ],
      "metadata": {
        "colab": {
          "base_uri": "https://localhost:8080/"
        },
        "id": "kqygZ65gI_sN",
        "outputId": "2b65310a-c119-4309-9777-1864a55e60fa"
      },
      "execution_count": 2,
      "outputs": [
        {
          "output_type": "execute_result",
          "data": {
            "text/plain": [
              "[1, 2, 3]"
            ]
          },
          "metadata": {},
          "execution_count": 2
        }
      ]
    },
    {
      "cell_type": "markdown",
      "source": [
        "Array dengan rank 2 dan panjang 3."
      ],
      "metadata": {
        "id": "ATVpPQCXJHi_"
      }
    },
    {
      "cell_type": "code",
      "source": [
        "[[1,2,3], [4,5,6]]"
      ],
      "metadata": {
        "colab": {
          "base_uri": "https://localhost:8080/"
        },
        "id": "EzX3WSp0JIAS",
        "outputId": "751ce733-3d15-43b0-f100-d15ba2b3d085"
      },
      "execution_count": 3,
      "outputs": [
        {
          "output_type": "execute_result",
          "data": {
            "text/plain": [
              "[[1, 2, 3], [4, 5, 6]]"
            ]
          },
          "metadata": {},
          "execution_count": 3
        }
      ]
    },
    {
      "cell_type": "code",
      "source": [
        "a = np.array([1,2,3])\n",
        "b = np.array([(1,2,3), (4,5,6)])\n",
        "\n",
        "print(a)\n",
        "print(b)"
      ],
      "metadata": {
        "colab": {
          "base_uri": "https://localhost:8080/"
        },
        "id": "6XbYg5ktJcq0",
        "outputId": "7c5ad720-a202-4253-c0f2-96d66248e711"
      },
      "execution_count": 7,
      "outputs": [
        {
          "output_type": "stream",
          "name": "stdout",
          "text": [
            "[1 2 3]\n",
            "[[1 2 3]\n",
            " [4 5 6]]\n"
          ]
        }
      ]
    },
    {
      "cell_type": "markdown",
      "source": [
        "**ndarray**: nama class untuk sebuah numpy array"
      ],
      "metadata": {
        "id": "uq2Zwm2xKTu7"
      }
    },
    {
      "cell_type": "code",
      "source": [
        "a = np.array([1,2,3])"
      ],
      "metadata": {
        "id": "8EWlmEcEKkvP"
      },
      "execution_count": null,
      "outputs": []
    },
    {
      "cell_type": "markdown",
      "source": [
        "# Properties\n",
        "* ndarray.ndim : dimensi dari sebuah numpy array.\n",
        "* ndarray.shape : baris dan kolum dari sebuah numpyn array.\n",
        "* ndarray.size : jumlah elemen di dalam numpy array.\n",
        "* ndarray.dtype : tipe data dari elemen yg ada dinumpy array.\n",
        "* ndarray.itemsize : ukuran elemen (bytes) yg ada di numpy array.\n",
        "* ndarray.data : sebuah buffer untuk menyimpan elemen\" di dlm numpy array."
      ],
      "metadata": {
        "id": "U9lbarEcLkoa"
      }
    },
    {
      "cell_type": "code",
      "source": [
        "a = np.array([1,2,3])\n",
        "b = np.array([(1,2,3), (4,5,6)])\n",
        "\n"
      ],
      "metadata": {
        "id": "JB8DYH84MquR"
      },
      "execution_count": 8,
      "outputs": []
    },
    {
      "cell_type": "code",
      "source": [
        "print(a.ndim)\n",
        "print(a.shape)\n",
        "print(a.size)\n",
        "print(a.dtype)\n",
        "print(a.itemsize)"
      ],
      "metadata": {
        "colab": {
          "base_uri": "https://localhost:8080/"
        },
        "id": "jy7R8EWaNJqe",
        "outputId": "2fd72dfc-56ab-4742-c4b1-622961eacb61"
      },
      "execution_count": 11,
      "outputs": [
        {
          "output_type": "stream",
          "name": "stdout",
          "text": [
            "1\n",
            "(3,)\n",
            "3\n",
            "int64\n",
            "8\n"
          ]
        }
      ]
    },
    {
      "cell_type": "code",
      "source": [
        "print(b.ndim)\n",
        "print(b.shape)\n",
        "print(b.size)\n",
        "print(b.dtype)\n",
        "print(b.itemsize)"
      ],
      "metadata": {
        "colab": {
          "base_uri": "https://localhost:8080/"
        },
        "id": "T-dv1c5kORQl",
        "outputId": "f6006539-d616-4bb2-97ff-3a0c776dae16"
      },
      "execution_count": 12,
      "outputs": [
        {
          "output_type": "stream",
          "name": "stdout",
          "text": [
            "2\n",
            "(2, 3)\n",
            "6\n",
            "int64\n",
            "8\n"
          ]
        }
      ]
    },
    {
      "cell_type": "markdown",
      "source": [
        "# Create Numpy Arrays"
      ],
      "metadata": {
        "id": "BqPuSPxlXCFY"
      }
    },
    {
      "cell_type": "markdown",
      "source": [
        "* np.zeros: isinya semua 0\n",
        "* np.ones: isinya semua 1\n",
        "* arange: bisa berikan scope dan panjang dari step\n",
        "* np.linespace: berikan scope dan jumlah elemen yg diinginkan\n",
        "* np.random.random: memberikan angka acak\n"
      ],
      "metadata": {
        "id": "J4V8Fb7pXSGV"
      }
    },
    {
      "cell_type": "code",
      "source": [
        "np.zeros((3,3))"
      ],
      "metadata": {
        "colab": {
          "base_uri": "https://localhost:8080/"
        },
        "id": "AvJBki5qXfhd",
        "outputId": "e35e0e26-f8c0-4d4a-8ae7-6c0b95870e38"
      },
      "execution_count": 13,
      "outputs": [
        {
          "output_type": "execute_result",
          "data": {
            "text/plain": [
              "array([[0., 0., 0.],\n",
              "       [0., 0., 0.],\n",
              "       [0., 0., 0.]])"
            ]
          },
          "metadata": {},
          "execution_count": 13
        }
      ]
    },
    {
      "cell_type": "code",
      "source": [
        "np.ones((3,3))"
      ],
      "metadata": {
        "colab": {
          "base_uri": "https://localhost:8080/"
        },
        "id": "YX4d_98BYCuN",
        "outputId": "2ef313db-947d-405b-ef8d-51cc0701ff8a"
      },
      "execution_count": 14,
      "outputs": [
        {
          "output_type": "execute_result",
          "data": {
            "text/plain": [
              "array([[1., 1., 1.],\n",
              "       [1., 1., 1.],\n",
              "       [1., 1., 1.]])"
            ]
          },
          "metadata": {},
          "execution_count": 14
        }
      ]
    },
    {
      "cell_type": "code",
      "source": [
        "np.arange(1,2,0.2)"
      ],
      "metadata": {
        "colab": {
          "base_uri": "https://localhost:8080/"
        },
        "id": "c5UZ3jAXYGh6",
        "outputId": "bedb0380-afcf-48fc-aa4d-eb82afe6e9fa"
      },
      "execution_count": 18,
      "outputs": [
        {
          "output_type": "execute_result",
          "data": {
            "text/plain": [
              "array([1. , 1.2, 1.4, 1.6, 1.8])"
            ]
          },
          "metadata": {},
          "execution_count": 18
        }
      ]
    },
    {
      "cell_type": "code",
      "source": [
        "np.linspace(1,3,6)"
      ],
      "metadata": {
        "colab": {
          "base_uri": "https://localhost:8080/"
        },
        "id": "8xOvvZ40YQqn",
        "outputId": "6f184dae-9dce-4da3-b2c5-763251155b32"
      },
      "execution_count": 22,
      "outputs": [
        {
          "output_type": "execute_result",
          "data": {
            "text/plain": [
              "array([1. , 1.4, 1.8, 2.2, 2.6, 3. ])"
            ]
          },
          "metadata": {},
          "execution_count": 22
        }
      ]
    },
    {
      "cell_type": "code",
      "source": [
        "np.random.random((3,3))"
      ],
      "metadata": {
        "colab": {
          "base_uri": "https://localhost:8080/"
        },
        "id": "I3p2x2TUYm7x",
        "outputId": "468f9548-bb28-4140-ed2b-632373a36476"
      },
      "execution_count": 23,
      "outputs": [
        {
          "output_type": "execute_result",
          "data": {
            "text/plain": [
              "array([[0.31252851, 0.47077388, 0.30119726],\n",
              "       [0.74007003, 0.10217122, 0.83015808],\n",
              "       [0.22764205, 0.58650957, 0.54654012]])"
            ]
          },
          "metadata": {},
          "execution_count": 23
        }
      ]
    },
    {
      "cell_type": "markdown",
      "source": [
        "# Shape and Operation\n"
      ],
      "metadata": {
        "id": "4qJJxzT1Y9Cf"
      }
    },
    {
      "cell_type": "markdown",
      "source": [
        "* reshape: mengubah dimensi/shape dari sebuah numpy array\n",
        "* vstack: stack numpy arrays secara vertikal\n",
        "* hstack: stack numpy arrays secara horizontal\n",
        "* vsplit: split numpy array secara vertikal\n",
        "* hsplit: split numpy array secara horizontal"
      ],
      "metadata": {
        "id": "JUGu9_rzZBWR"
      }
    },
    {
      "cell_type": "code",
      "source": [
        "a = np.array([(1,2,3), (4,5,6)])\n",
        "a"
      ],
      "metadata": {
        "colab": {
          "base_uri": "https://localhost:8080/"
        },
        "id": "J9MlAY0faSX1",
        "outputId": "eaf8782f-2d68-4284-bc2d-ebc34351b680"
      },
      "execution_count": 38,
      "outputs": [
        {
          "output_type": "execute_result",
          "data": {
            "text/plain": [
              "array([[1, 2, 3],\n",
              "       [4, 5, 6]])"
            ]
          },
          "metadata": {},
          "execution_count": 38
        }
      ]
    },
    {
      "cell_type": "code",
      "source": [
        "a = a.reshape(3,2)\n",
        "a"
      ],
      "metadata": {
        "colab": {
          "base_uri": "https://localhost:8080/"
        },
        "id": "jdysSDFqahAM",
        "outputId": "e8a583d4-7958-4520-af88-725cbe0fc9b5"
      },
      "execution_count": 29,
      "outputs": [
        {
          "output_type": "execute_result",
          "data": {
            "text/plain": [
              "array([[1, 2],\n",
              "       [3, 4],\n",
              "       [5, 6]])"
            ]
          },
          "metadata": {},
          "execution_count": 29
        }
      ]
    },
    {
      "cell_type": "code",
      "source": [
        "b = np.array([(7,8), (9,10)])\n",
        "b"
      ],
      "metadata": {
        "colab": {
          "base_uri": "https://localhost:8080/"
        },
        "id": "xZMoXtATamF-",
        "outputId": "05b97bfa-8123-42fa-950f-ccb02d8d5a21"
      },
      "execution_count": 30,
      "outputs": [
        {
          "output_type": "execute_result",
          "data": {
            "text/plain": [
              "array([[ 7,  8],\n",
              "       [ 9, 10]])"
            ]
          },
          "metadata": {},
          "execution_count": 30
        }
      ]
    },
    {
      "cell_type": "code",
      "source": [
        "np.vstack((a,b))"
      ],
      "metadata": {
        "colab": {
          "base_uri": "https://localhost:8080/"
        },
        "id": "9abrXT-RaxdX",
        "outputId": "3aca7555-5056-4c39-a8e0-f62c32221f3e"
      },
      "execution_count": 34,
      "outputs": [
        {
          "output_type": "execute_result",
          "data": {
            "text/plain": [
              "array([[ 1,  2],\n",
              "       [ 3,  4],\n",
              "       [ 5,  6],\n",
              "       [ 7,  8],\n",
              "       [ 9, 10]])"
            ]
          },
          "metadata": {},
          "execution_count": 34
        }
      ]
    },
    {
      "cell_type": "code",
      "source": [
        "c = np.array([(11,12,13), (14,15,16)])\n",
        "c"
      ],
      "metadata": {
        "colab": {
          "base_uri": "https://localhost:8080/"
        },
        "id": "fGgzA0u7a2qs",
        "outputId": "345a5091-6ea9-47a9-ee6e-5642ba918b5f"
      },
      "execution_count": 35,
      "outputs": [
        {
          "output_type": "execute_result",
          "data": {
            "text/plain": [
              "array([[11, 12, 13],\n",
              "       [14, 15, 16]])"
            ]
          },
          "metadata": {},
          "execution_count": 35
        }
      ]
    },
    {
      "cell_type": "code",
      "source": [
        "d =  np.hstack((a,c))\n",
        "d"
      ],
      "metadata": {
        "colab": {
          "base_uri": "https://localhost:8080/"
        },
        "id": "hpPZ4z-_bJyp",
        "outputId": "6c426f0f-15fe-4c2b-cfd8-a540161734ac"
      },
      "execution_count": 39,
      "outputs": [
        {
          "output_type": "execute_result",
          "data": {
            "text/plain": [
              "array([[ 1,  2,  3, 11, 12, 13],\n",
              "       [ 4,  5,  6, 14, 15, 16]])"
            ]
          },
          "metadata": {},
          "execution_count": 39
        }
      ]
    },
    {
      "cell_type": "code",
      "source": [
        "np.vsplit(d,2)"
      ],
      "metadata": {
        "colab": {
          "base_uri": "https://localhost:8080/"
        },
        "id": "67kjC7qjbdY0",
        "outputId": "d0fc0a51-af0d-4f2e-aa3b-445fb58965ac"
      },
      "execution_count": 40,
      "outputs": [
        {
          "output_type": "execute_result",
          "data": {
            "text/plain": [
              "[array([[ 1,  2,  3, 11, 12, 13]]), array([[ 4,  5,  6, 14, 15, 16]])]"
            ]
          },
          "metadata": {},
          "execution_count": 40
        }
      ]
    },
    {
      "cell_type": "code",
      "source": [
        "np.hsplit(d,3)"
      ],
      "metadata": {
        "colab": {
          "base_uri": "https://localhost:8080/"
        },
        "id": "kepPuvExboDm",
        "outputId": "237a42b3-32fd-49f2-acd4-20f7d221bd8e"
      },
      "execution_count": 41,
      "outputs": [
        {
          "output_type": "execute_result",
          "data": {
            "text/plain": [
              "[array([[1, 2],\n",
              "        [4, 5]]),\n",
              " array([[ 3, 11],\n",
              "        [ 6, 14]]),\n",
              " array([[12, 13],\n",
              "        [15, 16]])]"
            ]
          },
          "metadata": {},
          "execution_count": 41
        }
      ]
    },
    {
      "cell_type": "code",
      "source": [
        "np.hsplit(d,(1,3)) # split after kolum 1 dan 3"
      ],
      "metadata": {
        "colab": {
          "base_uri": "https://localhost:8080/"
        },
        "id": "dElBj5P-b0Gc",
        "outputId": "06d56994-34d8-40ec-fb55-41a1b955ffab"
      },
      "execution_count": 42,
      "outputs": [
        {
          "output_type": "execute_result",
          "data": {
            "text/plain": [
              "[array([[1],\n",
              "        [4]]),\n",
              " array([[2, 3],\n",
              "        [5, 6]]),\n",
              " array([[11, 12, 13],\n",
              "        [14, 15, 16]])]"
            ]
          },
          "metadata": {},
          "execution_count": 42
        }
      ]
    },
    {
      "cell_type": "markdown",
      "source": [
        "# Indexing"
      ],
      "metadata": {
        "id": "0jGd7Jz6cdwQ"
      }
    },
    {
      "cell_type": "code",
      "source": [
        "data = np.arange(100,200)\n",
        "data"
      ],
      "metadata": {
        "colab": {
          "base_uri": "https://localhost:8080/"
        },
        "id": "usi2XYPJcgh0",
        "outputId": "c697a675-4d60-477f-e712-b30c8244a517"
      },
      "execution_count": 43,
      "outputs": [
        {
          "output_type": "execute_result",
          "data": {
            "text/plain": [
              "array([100, 101, 102, 103, 104, 105, 106, 107, 108, 109, 110, 111, 112,\n",
              "       113, 114, 115, 116, 117, 118, 119, 120, 121, 122, 123, 124, 125,\n",
              "       126, 127, 128, 129, 130, 131, 132, 133, 134, 135, 136, 137, 138,\n",
              "       139, 140, 141, 142, 143, 144, 145, 146, 147, 148, 149, 150, 151,\n",
              "       152, 153, 154, 155, 156, 157, 158, 159, 160, 161, 162, 163, 164,\n",
              "       165, 166, 167, 168, 169, 170, 171, 172, 173, 174, 175, 176, 177,\n",
              "       178, 179, 180, 181, 182, 183, 184, 185, 186, 187, 188, 189, 190,\n",
              "       191, 192, 193, 194, 195, 196, 197, 198, 199])"
            ]
          },
          "metadata": {},
          "execution_count": 43
        }
      ]
    },
    {
      "cell_type": "code",
      "source": [
        "data[0]"
      ],
      "metadata": {
        "colab": {
          "base_uri": "https://localhost:8080/"
        },
        "id": "FnzI0-kCcq5i",
        "outputId": "968ffcb5-15e8-40ff-ef54-844f70f9400c"
      },
      "execution_count": 44,
      "outputs": [
        {
          "output_type": "execute_result",
          "data": {
            "text/plain": [
              "100"
            ]
          },
          "metadata": {},
          "execution_count": 44
        }
      ]
    },
    {
      "cell_type": "code",
      "source": [
        "fives = np.arange(0,100,5)\n",
        "fives"
      ],
      "metadata": {
        "colab": {
          "base_uri": "https://localhost:8080/"
        },
        "id": "vADbRTGncvR-",
        "outputId": "4bfe13fd-546b-4ced-cc0e-8664304879da"
      },
      "execution_count": 52,
      "outputs": [
        {
          "output_type": "execute_result",
          "data": {
            "text/plain": [
              "array([ 0,  5, 10, 15, 20, 25, 30, 35, 40, 45, 50, 55, 60, 65, 70, 75, 80,\n",
              "       85, 90, 95])"
            ]
          },
          "metadata": {},
          "execution_count": 52
        }
      ]
    },
    {
      "cell_type": "code",
      "source": [
        "data[fives]\n"
      ],
      "metadata": {
        "colab": {
          "base_uri": "https://localhost:8080/"
        },
        "id": "HCtpx1NbdAWG",
        "outputId": "c05430db-0e07-4271-d643-b316fcba63b1"
      },
      "execution_count": 53,
      "outputs": [
        {
          "output_type": "execute_result",
          "data": {
            "text/plain": [
              "array([100, 105, 110, 115, 120, 125, 130, 135, 140, 145, 150, 155, 160,\n",
              "       165, 170, 175, 180, 185, 190, 195])"
            ]
          },
          "metadata": {},
          "execution_count": 53
        }
      ]
    },
    {
      "cell_type": "code",
      "source": [
        "data2D = data.reshape(10,-1)\n",
        "data2D"
      ],
      "metadata": {
        "colab": {
          "base_uri": "https://localhost:8080/"
        },
        "id": "TMl6pdjmdVz2",
        "outputId": "a70fb6f2-7270-4a89-a0e3-c140af9d0698"
      },
      "execution_count": 54,
      "outputs": [
        {
          "output_type": "execute_result",
          "data": {
            "text/plain": [
              "array([[100, 101, 102, 103, 104, 105, 106, 107, 108, 109],\n",
              "       [110, 111, 112, 113, 114, 115, 116, 117, 118, 119],\n",
              "       [120, 121, 122, 123, 124, 125, 126, 127, 128, 129],\n",
              "       [130, 131, 132, 133, 134, 135, 136, 137, 138, 139],\n",
              "       [140, 141, 142, 143, 144, 145, 146, 147, 148, 149],\n",
              "       [150, 151, 152, 153, 154, 155, 156, 157, 158, 159],\n",
              "       [160, 161, 162, 163, 164, 165, 166, 167, 168, 169],\n",
              "       [170, 171, 172, 173, 174, 175, 176, 177, 178, 179],\n",
              "       [180, 181, 182, 183, 184, 185, 186, 187, 188, 189],\n",
              "       [190, 191, 192, 193, 194, 195, 196, 197, 198, 199]])"
            ]
          },
          "metadata": {},
          "execution_count": 54
        }
      ]
    },
    {
      "cell_type": "code",
      "source": [
        "data2D [2]"
      ],
      "metadata": {
        "colab": {
          "base_uri": "https://localhost:8080/"
        },
        "id": "UnIjzp0-deI_",
        "outputId": "f29cc770-fbae-4ff7-a83f-0d73113b30dc"
      },
      "execution_count": 58,
      "outputs": [
        {
          "output_type": "execute_result",
          "data": {
            "text/plain": [
              "array([120, 121, 122, 123, 124, 125, 126, 127, 128, 129])"
            ]
          },
          "metadata": {},
          "execution_count": 58
        }
      ]
    },
    {
      "cell_type": "code",
      "source": [
        "data2D[3,2]"
      ],
      "metadata": {
        "colab": {
          "base_uri": "https://localhost:8080/"
        },
        "id": "-yN_NO4hdvTI",
        "outputId": "06df5707-8cb9-474d-a4b9-164b7f53704c"
      },
      "execution_count": 60,
      "outputs": [
        {
          "output_type": "execute_result",
          "data": {
            "text/plain": [
              "132"
            ]
          },
          "metadata": {},
          "execution_count": 60
        }
      ]
    },
    {
      "cell_type": "code",
      "source": [
        "data2D[-2,-1]"
      ],
      "metadata": {
        "colab": {
          "base_uri": "https://localhost:8080/"
        },
        "id": "bRX6y7avd09o",
        "outputId": "38afc7aa-5c50-4ea6-ef03-76a891147919"
      },
      "execution_count": 64,
      "outputs": [
        {
          "output_type": "execute_result",
          "data": {
            "text/plain": [
              "189"
            ]
          },
          "metadata": {},
          "execution_count": 64
        }
      ]
    },
    {
      "cell_type": "code",
      "source": [
        "data2D[2,:]"
      ],
      "metadata": {
        "colab": {
          "base_uri": "https://localhost:8080/"
        },
        "id": "2eHrPYD8eDPc",
        "outputId": "ae458ddc-0bf3-4d7f-8232-6adb90f885cf"
      },
      "execution_count": 65,
      "outputs": [
        {
          "output_type": "execute_result",
          "data": {
            "text/plain": [
              "array([120, 121, 122, 123, 124, 125, 126, 127, 128, 129])"
            ]
          },
          "metadata": {},
          "execution_count": 65
        }
      ]
    },
    {
      "cell_type": "code",
      "source": [
        "data2D[:,3]"
      ],
      "metadata": {
        "colab": {
          "base_uri": "https://localhost:8080/"
        },
        "id": "Oz9ZkXf3eOkv",
        "outputId": "fddbc03d-1c3b-48a9-f55d-db26dc862ad1"
      },
      "execution_count": 66,
      "outputs": [
        {
          "output_type": "execute_result",
          "data": {
            "text/plain": [
              "array([103, 113, 123, 133, 143, 153, 163, 173, 183, 193])"
            ]
          },
          "metadata": {},
          "execution_count": 66
        }
      ]
    },
    {
      "cell_type": "code",
      "source": [
        "data2D[1:4, 3:5]\n",
        "# baris 1,2,3\n",
        "# kolum 3 dan 4"
      ],
      "metadata": {
        "colab": {
          "base_uri": "https://localhost:8080/"
        },
        "id": "AdU9v4OeeYH2",
        "outputId": "a2e4b02b-33af-4887-9122-be1662ad0014"
      },
      "execution_count": 69,
      "outputs": [
        {
          "output_type": "execute_result",
          "data": {
            "text/plain": [
              "array([[113, 114],\n",
              "       [123, 124],\n",
              "       [133, 134]])"
            ]
          },
          "metadata": {},
          "execution_count": 69
        }
      ]
    },
    {
      "cell_type": "markdown",
      "source": [
        "# Mathematics"
      ],
      "metadata": {
        "id": "KRINqzZEe_u7"
      }
    },
    {
      "cell_type": "code",
      "source": [
        "numbers = np.random.random((5,5))\n",
        "numbers\n"
      ],
      "metadata": {
        "colab": {
          "base_uri": "https://localhost:8080/"
        },
        "id": "hDAjUxRNfFWH",
        "outputId": "9f983596-6afc-4e8e-cd01-d842fbb3ebe9"
      },
      "execution_count": 70,
      "outputs": [
        {
          "output_type": "execute_result",
          "data": {
            "text/plain": [
              "array([[0.89816653, 0.08200987, 0.88998896, 0.38395229, 0.16056953],\n",
              "       [0.975976  , 0.10557799, 0.46921131, 0.66517378, 0.59629654],\n",
              "       [0.05245555, 0.27141399, 0.50715848, 0.11702209, 0.37364582],\n",
              "       [0.71053717, 0.77333847, 0.8627723 , 0.5186272 , 0.52474567],\n",
              "       [0.32504168, 0.69510665, 0.18074855, 0.64598042, 0.81568287]])"
            ]
          },
          "metadata": {},
          "execution_count": 70
        }
      ]
    },
    {
      "cell_type": "code",
      "source": [
        "print(np.amin(numbers)) #minimum\n",
        "print(np.amax(numbers)) #maximum\n",
        "print(np.average(numbers)) #averange\n",
        "print(np.sum(numbers))#rata\""
      ],
      "metadata": {
        "colab": {
          "base_uri": "https://localhost:8080/"
        },
        "id": "GdJXlvf8fRlc",
        "outputId": "9772acfa-ab71-4a2f-d3d8-6806362b396d"
      },
      "execution_count": 71,
      "outputs": [
        {
          "output_type": "stream",
          "name": "stdout",
          "text": [
            "0.05245555227619925\n",
            "0.9759760007722399\n",
            "0.5040479883380202\n",
            "12.601199708450507\n"
          ]
        }
      ]
    },
    {
      "cell_type": "code",
      "source": [
        "np.sqrt(numbers) #akar"
      ],
      "metadata": {
        "colab": {
          "base_uri": "https://localhost:8080/"
        },
        "id": "W5L8tJC6gDYF",
        "outputId": "fd700ef3-fbac-45bc-b0b8-c278d5d997e7"
      },
      "execution_count": 72,
      "outputs": [
        {
          "output_type": "execute_result",
          "data": {
            "text/plain": [
              "array([[0.94771648, 0.28637365, 0.94339226, 0.61963883, 0.40071128],\n",
              "       [0.98791498, 0.32492767, 0.68499   , 0.81558187, 0.7722024 ],\n",
              "       [0.22903177, 0.52097408, 0.7121506 , 0.34208492, 0.61126576],\n",
              "       [0.84293367, 0.87939665, 0.92885537, 0.72015776, 0.72439331],\n",
              "       [0.57012426, 0.83373056, 0.42514532, 0.80372907, 0.90315163]])"
            ]
          },
          "metadata": {},
          "execution_count": 72
        }
      ]
    },
    {
      "cell_type": "code",
      "source": [
        "#sin dr semua angka\n",
        "np.sin(numbers)"
      ],
      "metadata": {
        "colab": {
          "base_uri": "https://localhost:8080/"
        },
        "id": "dYl-KVmrgk13",
        "outputId": "06733ecc-f686-4104-8183-a1d086539830"
      },
      "execution_count": 73,
      "outputs": [
        {
          "output_type": "execute_result",
          "data": {
            "text/plain": [
              "array([[0.78218589, 0.08191797, 0.7770648 , 0.37458791, 0.15988044],\n",
              "       [0.82824919, 0.10538196, 0.45218297, 0.61719587, 0.56158201],\n",
              "       [0.0524315 , 0.26809394, 0.48569536, 0.11675519, 0.36501212],\n",
              "       [0.65224105, 0.69852808, 0.7596484 , 0.49568833, 0.50099291],\n",
              "       [0.31934828, 0.64046735, 0.17976598, 0.6019816 , 0.72819379]])"
            ]
          },
          "metadata": {},
          "execution_count": 73
        }
      ]
    },
    {
      "cell_type": "code",
      "source": [
        "#cos\n",
        "np.cos(numbers)"
      ],
      "metadata": {
        "colab": {
          "base_uri": "https://localhost:8080/"
        },
        "id": "pWxmBWVBgsg5",
        "outputId": "bf15535d-119c-404e-a613-e17a64c8dc96"
      },
      "execution_count": 74,
      "outputs": [
        {
          "output_type": "execute_result",
          "data": {
            "text/plain": [
              "array([[0.62304513, 0.99663908, 0.62942061, 0.9271914 , 0.98713639],\n",
              "       [0.56035995, 0.99443182, 0.8919252 , 0.78680954, 0.82742108],\n",
              "       [0.99862452, 0.96339278, 0.87412815, 0.99316073, 0.93100277],\n",
              "       [0.75801162, 0.71558265, 0.65033399, 0.86850048, 0.86545139],\n",
              "       [0.94763742, 0.7679854 , 0.98370941, 0.79850995, 0.68537129]])"
            ]
          },
          "metadata": {},
          "execution_count": 74
        }
      ]
    },
    {
      "cell_type": "code",
      "source": [
        "sample = np.arange (1,21)\n",
        "sample"
      ],
      "metadata": {
        "colab": {
          "base_uri": "https://localhost:8080/"
        },
        "id": "VCE2OLs7g6UF",
        "outputId": "b4f48f26-2c09-4d93-b407-4ea27ee76d4a"
      },
      "execution_count": 80,
      "outputs": [
        {
          "output_type": "execute_result",
          "data": {
            "text/plain": [
              "array([ 1,  2,  3,  4,  5,  6,  7,  8,  9, 10, 11, 12, 13, 14, 15, 16, 17,\n",
              "       18, 19, 20])"
            ]
          },
          "metadata": {},
          "execution_count": 80
        }
      ]
    },
    {
      "cell_type": "code",
      "source": [
        "sample2 = np.arange (51,71)\n",
        "sample2"
      ],
      "metadata": {
        "colab": {
          "base_uri": "https://localhost:8080/"
        },
        "id": "_dqK33g1hPwt",
        "outputId": "24ed4fb1-21b0-4bf6-c8a2-3d35230cd50e"
      },
      "execution_count": 83,
      "outputs": [
        {
          "output_type": "execute_result",
          "data": {
            "text/plain": [
              "array([51, 52, 53, 54, 55, 56, 57, 58, 59, 60, 61, 62, 63, 64, 65, 66, 67,\n",
              "       68, 69, 70])"
            ]
          },
          "metadata": {},
          "execution_count": 83
        }
      ]
    },
    {
      "cell_type": "code",
      "source": [
        "sample + sample2"
      ],
      "metadata": {
        "colab": {
          "base_uri": "https://localhost:8080/"
        },
        "id": "Zhg-JSiIhJVG",
        "outputId": "1ba78432-01a3-471a-8762-7926473477f9"
      },
      "execution_count": 84,
      "outputs": [
        {
          "output_type": "execute_result",
          "data": {
            "text/plain": [
              "array([52, 54, 56, 58, 60, 62, 64, 66, 68, 70, 72, 74, 76, 78, 80, 82, 84,\n",
              "       86, 88, 90])"
            ]
          },
          "metadata": {},
          "execution_count": 84
        }
      ]
    },
    {
      "cell_type": "code",
      "source": [
        "sample2 - sample"
      ],
      "metadata": {
        "colab": {
          "base_uri": "https://localhost:8080/"
        },
        "id": "OXtp-xBghhtJ",
        "outputId": "35986fc3-abdb-46a1-87bb-3f1faf6832c4"
      },
      "execution_count": 86,
      "outputs": [
        {
          "output_type": "execute_result",
          "data": {
            "text/plain": [
              "array([50, 50, 50, 50, 50, 50, 50, 50, 50, 50, 50, 50, 50, 50, 50, 50, 50,\n",
              "       50, 50, 50])"
            ]
          },
          "metadata": {},
          "execution_count": 86
        }
      ]
    },
    {
      "cell_type": "code",
      "source": [
        "sample * sample2"
      ],
      "metadata": {
        "colab": {
          "base_uri": "https://localhost:8080/"
        },
        "id": "CFPX4MUchpEF",
        "outputId": "0f88d43f-94b0-4291-e847-56ca952b0e12"
      },
      "execution_count": 87,
      "outputs": [
        {
          "output_type": "execute_result",
          "data": {
            "text/plain": [
              "array([  51,  104,  159,  216,  275,  336,  399,  464,  531,  600,  671,\n",
              "        744,  819,  896,  975, 1056, 1139, 1224, 1311, 1400])"
            ]
          },
          "metadata": {},
          "execution_count": 87
        }
      ]
    },
    {
      "cell_type": "code",
      "source": [
        "sample/sample2"
      ],
      "metadata": {
        "colab": {
          "base_uri": "https://localhost:8080/"
        },
        "id": "XcweBoqAhroG",
        "outputId": "6a90e8dd-fa47-4d72-86e4-766f13e9d662"
      },
      "execution_count": 88,
      "outputs": [
        {
          "output_type": "execute_result",
          "data": {
            "text/plain": [
              "array([0.01960784, 0.03846154, 0.05660377, 0.07407407, 0.09090909,\n",
              "       0.10714286, 0.12280702, 0.13793103, 0.15254237, 0.16666667,\n",
              "       0.18032787, 0.19354839, 0.20634921, 0.21875   , 0.23076923,\n",
              "       0.24242424, 0.25373134, 0.26470588, 0.27536232, 0.28571429])"
            ]
          },
          "metadata": {},
          "execution_count": 88
        }
      ]
    },
    {
      "cell_type": "code",
      "source": [
        "matrix = np.random.randint (1,50,20)\n",
        "matrix"
      ],
      "metadata": {
        "colab": {
          "base_uri": "https://localhost:8080/"
        },
        "id": "cFEbA03zh1y9",
        "outputId": "05c20587-e5f7-42bd-dc69-a143612ee6f3"
      },
      "execution_count": 91,
      "outputs": [
        {
          "output_type": "execute_result",
          "data": {
            "text/plain": [
              "array([31, 16, 45, 11, 17, 26, 36,  4, 32, 45, 26, 10,  3, 27, 25, 19, 33,\n",
              "       16, 41,  8])"
            ]
          },
          "metadata": {},
          "execution_count": 91
        }
      ]
    },
    {
      "cell_type": "code",
      "source": [
        "matrix = matrix.reshape(4,-1)\n",
        "matrix"
      ],
      "metadata": {
        "colab": {
          "base_uri": "https://localhost:8080/"
        },
        "id": "SE4gfTEIiIXS",
        "outputId": "9f2ea82f-e182-4d33-b122-8794eb2fb9b9"
      },
      "execution_count": 92,
      "outputs": [
        {
          "output_type": "execute_result",
          "data": {
            "text/plain": [
              "array([[31, 16, 45, 11, 17],\n",
              "       [26, 36,  4, 32, 45],\n",
              "       [26, 10,  3, 27, 25],\n",
              "       [19, 33, 16, 41,  8]])"
            ]
          },
          "metadata": {},
          "execution_count": 92
        }
      ]
    },
    {
      "cell_type": "code",
      "source": [
        "matrix.transpose() #baris jd kolum, kolum jd baris"
      ],
      "metadata": {
        "colab": {
          "base_uri": "https://localhost:8080/"
        },
        "id": "OTVTvjfniX1Y",
        "outputId": "439387d6-f5a7-4746-bc3e-818795e7a15e"
      },
      "execution_count": 93,
      "outputs": [
        {
          "output_type": "execute_result",
          "data": {
            "text/plain": [
              "array([[31, 26, 26, 19],\n",
              "       [16, 36, 10, 33],\n",
              "       [45,  4,  3, 16],\n",
              "       [11, 32, 27, 41],\n",
              "       [17, 45, 25,  8]])"
            ]
          },
          "metadata": {},
          "execution_count": 93
        }
      ]
    },
    {
      "cell_type": "code",
      "source": [
        "np.dot(matrix, -1)"
      ],
      "metadata": {
        "colab": {
          "base_uri": "https://localhost:8080/"
        },
        "id": "iYtXwA9xihar",
        "outputId": "651f3211-c9e3-44c0-9c8f-a9c723370adc"
      },
      "execution_count": 94,
      "outputs": [
        {
          "output_type": "execute_result",
          "data": {
            "text/plain": [
              "array([[-31, -16, -45, -11, -17],\n",
              "       [-26, -36,  -4, -32, -45],\n",
              "       [-26, -10,  -3, -27, -25],\n",
              "       [-19, -33, -16, -41,  -8]])"
            ]
          },
          "metadata": {},
          "execution_count": 94
        }
      ]
    }
  ]
}