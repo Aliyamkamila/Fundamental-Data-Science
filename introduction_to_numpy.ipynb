{
  "nbformat": 4,
  "nbformat_minor": 0,
  "metadata": {
    "colab": {
      "provenance": [],
      "authorship_tag": "ABX9TyNj8URTkHsnvuNywohuLf/t",
      "include_colab_link": true
    },
    "kernelspec": {
      "name": "python3",
      "display_name": "Python 3"
    },
    "language_info": {
      "name": "python"
    }
  },
  "cells": [
    {
      "cell_type": "markdown",
      "metadata": {
        "id": "view-in-github",
        "colab_type": "text"
      },
      "source": [
        "<a href=\"https://colab.research.google.com/github/Aliyamkamila/Fundamental-Data-Science/blob/main/introduction_to_numpy.ipynb\" target=\"_parent\"><img src=\"https://colab.research.google.com/assets/colab-badge.svg\" alt=\"Open In Colab\"/></a>"
      ]
    },
    {
      "cell_type": "markdown",
      "source": [
        "# Numpy"
      ],
      "metadata": {
        "id": "2UNS3WQrIfGK"
      }
    },
    {
      "cell_type": "code",
      "source": [
        "import numpy as np\n"
      ],
      "metadata": {
        "id": "C8O-w3pCIiMi"
      },
      "execution_count": 1,
      "outputs": []
    },
    {
      "cell_type": "markdown",
      "source": [
        "Array dengan rank 1 dan panjang 3."
      ],
      "metadata": {
        "id": "YAF07-erI-N_"
      }
    },
    {
      "cell_type": "code",
      "source": [
        "[1,2,3]"
      ],
      "metadata": {
        "colab": {
          "base_uri": "https://localhost:8080/"
        },
        "id": "kqygZ65gI_sN",
        "outputId": "2b65310a-c119-4309-9777-1864a55e60fa"
      },
      "execution_count": 2,
      "outputs": [
        {
          "output_type": "execute_result",
          "data": {
            "text/plain": [
              "[1, 2, 3]"
            ]
          },
          "metadata": {},
          "execution_count": 2
        }
      ]
    },
    {
      "cell_type": "markdown",
      "source": [
        "Array dengan rank 2 dan panjang 3."
      ],
      "metadata": {
        "id": "ATVpPQCXJHi_"
      }
    },
    {
      "cell_type": "code",
      "source": [
        "[[1,2,3], [4,5,6]]"
      ],
      "metadata": {
        "colab": {
          "base_uri": "https://localhost:8080/"
        },
        "id": "EzX3WSp0JIAS",
        "outputId": "751ce733-3d15-43b0-f100-d15ba2b3d085"
      },
      "execution_count": 3,
      "outputs": [
        {
          "output_type": "execute_result",
          "data": {
            "text/plain": [
              "[[1, 2, 3], [4, 5, 6]]"
            ]
          },
          "metadata": {},
          "execution_count": 3
        }
      ]
    },
    {
      "cell_type": "code",
      "source": [
        "a = np.array([1,2,3])\n",
        "b = np.array([(1,2,3), (4,5,6)])\n",
        "\n",
        "print(a)\n",
        "print(b)"
      ],
      "metadata": {
        "colab": {
          "base_uri": "https://localhost:8080/"
        },
        "id": "6XbYg5ktJcq0",
        "outputId": "7c5ad720-a202-4253-c0f2-96d66248e711"
      },
      "execution_count": 7,
      "outputs": [
        {
          "output_type": "stream",
          "name": "stdout",
          "text": [
            "[1 2 3]\n",
            "[[1 2 3]\n",
            " [4 5 6]]\n"
          ]
        }
      ]
    },
    {
      "cell_type": "markdown",
      "source": [
        "**ndarray**: nama class untuk sebuah numpy array"
      ],
      "metadata": {
        "id": "uq2Zwm2xKTu7"
      }
    },
    {
      "cell_type": "code",
      "source": [
        "a = np.array([1,2,3])"
      ],
      "metadata": {
        "id": "8EWlmEcEKkvP"
      },
      "execution_count": null,
      "outputs": []
    },
    {
      "cell_type": "markdown",
      "source": [
        "# Properties\n",
        "* ndarray.ndim : dimensi dari sebuah numpy array.\n",
        "* ndarray.shape : baris dan kolum dari sebuah numpyn array.\n",
        "* ndarray.size : jumlah elemen di dalam numpy array.\n",
        "* ndarray.dtype : tipe data dari elemen yg ada dinumpy array.\n",
        "* ndarray.itemsize : ukuran elemen (bytes) yg ada di numpy array.\n",
        "* ndarray.data : sebuah buffer untuk menyimpan elemen\" di dlm numpy array."
      ],
      "metadata": {
        "id": "U9lbarEcLkoa"
      }
    },
    {
      "cell_type": "code",
      "source": [
        "a = np.array([1,2,3])\n",
        "b = np.array([(1,2,3), (4,5,6)])\n",
        "\n"
      ],
      "metadata": {
        "id": "JB8DYH84MquR"
      },
      "execution_count": 8,
      "outputs": []
    },
    {
      "cell_type": "code",
      "source": [
        "print(a.ndim)\n",
        "print(a.shape)\n",
        "print(a.size)\n",
        "print(a.dtype)\n",
        "print(a.itemsize)"
      ],
      "metadata": {
        "colab": {
          "base_uri": "https://localhost:8080/"
        },
        "id": "jy7R8EWaNJqe",
        "outputId": "2fd72dfc-56ab-4742-c4b1-622961eacb61"
      },
      "execution_count": 11,
      "outputs": [
        {
          "output_type": "stream",
          "name": "stdout",
          "text": [
            "1\n",
            "(3,)\n",
            "3\n",
            "int64\n",
            "8\n"
          ]
        }
      ]
    },
    {
      "cell_type": "code",
      "source": [
        "print(b.ndim)\n",
        "print(b.shape)\n",
        "print(b.size)\n",
        "print(b.dtype)\n",
        "print(b.itemsize)"
      ],
      "metadata": {
        "colab": {
          "base_uri": "https://localhost:8080/"
        },
        "id": "T-dv1c5kORQl",
        "outputId": "f6006539-d616-4bb2-97ff-3a0c776dae16"
      },
      "execution_count": 12,
      "outputs": [
        {
          "output_type": "stream",
          "name": "stdout",
          "text": [
            "2\n",
            "(2, 3)\n",
            "6\n",
            "int64\n",
            "8\n"
          ]
        }
      ]
    },
    {
      "cell_type": "markdown",
      "source": [
        "# Create Numpy Arrays"
      ],
      "metadata": {
        "id": "BqPuSPxlXCFY"
      }
    },
    {
      "cell_type": "markdown",
      "source": [
        "* np.zeros: isinya semua 0\n",
        "* np.ones: isinya semua 1\n",
        "* arange: bisa berikan scope dan panjang dari step\n",
        "* np.linespace: berikan scope dan jumlah elemen yg diinginkan\n",
        "* np.random.random: memberikan angka acak\n"
      ],
      "metadata": {
        "id": "J4V8Fb7pXSGV"
      }
    },
    {
      "cell_type": "code",
      "source": [
        "np.zeros((3,3))"
      ],
      "metadata": {
        "colab": {
          "base_uri": "https://localhost:8080/"
        },
        "id": "AvJBki5qXfhd",
        "outputId": "e35e0e26-f8c0-4d4a-8ae7-6c0b95870e38"
      },
      "execution_count": 13,
      "outputs": [
        {
          "output_type": "execute_result",
          "data": {
            "text/plain": [
              "array([[0., 0., 0.],\n",
              "       [0., 0., 0.],\n",
              "       [0., 0., 0.]])"
            ]
          },
          "metadata": {},
          "execution_count": 13
        }
      ]
    },
    {
      "cell_type": "code",
      "source": [
        "np.ones((3,3))"
      ],
      "metadata": {
        "colab": {
          "base_uri": "https://localhost:8080/"
        },
        "id": "YX4d_98BYCuN",
        "outputId": "2ef313db-947d-405b-ef8d-51cc0701ff8a"
      },
      "execution_count": 14,
      "outputs": [
        {
          "output_type": "execute_result",
          "data": {
            "text/plain": [
              "array([[1., 1., 1.],\n",
              "       [1., 1., 1.],\n",
              "       [1., 1., 1.]])"
            ]
          },
          "metadata": {},
          "execution_count": 14
        }
      ]
    },
    {
      "cell_type": "code",
      "source": [
        "np.arange(1,2,0.2)"
      ],
      "metadata": {
        "colab": {
          "base_uri": "https://localhost:8080/"
        },
        "id": "c5UZ3jAXYGh6",
        "outputId": "bedb0380-afcf-48fc-aa4d-eb82afe6e9fa"
      },
      "execution_count": 18,
      "outputs": [
        {
          "output_type": "execute_result",
          "data": {
            "text/plain": [
              "array([1. , 1.2, 1.4, 1.6, 1.8])"
            ]
          },
          "metadata": {},
          "execution_count": 18
        }
      ]
    },
    {
      "cell_type": "code",
      "source": [
        "np.linspace(1,3,6)"
      ],
      "metadata": {
        "colab": {
          "base_uri": "https://localhost:8080/"
        },
        "id": "8xOvvZ40YQqn",
        "outputId": "6f184dae-9dce-4da3-b2c5-763251155b32"
      },
      "execution_count": 22,
      "outputs": [
        {
          "output_type": "execute_result",
          "data": {
            "text/plain": [
              "array([1. , 1.4, 1.8, 2.2, 2.6, 3. ])"
            ]
          },
          "metadata": {},
          "execution_count": 22
        }
      ]
    },
    {
      "cell_type": "code",
      "source": [
        "np.random.random((3,3))"
      ],
      "metadata": {
        "colab": {
          "base_uri": "https://localhost:8080/"
        },
        "id": "I3p2x2TUYm7x",
        "outputId": "468f9548-bb28-4140-ed2b-632373a36476"
      },
      "execution_count": 23,
      "outputs": [
        {
          "output_type": "execute_result",
          "data": {
            "text/plain": [
              "array([[0.31252851, 0.47077388, 0.30119726],\n",
              "       [0.74007003, 0.10217122, 0.83015808],\n",
              "       [0.22764205, 0.58650957, 0.54654012]])"
            ]
          },
          "metadata": {},
          "execution_count": 23
        }
      ]
    },
    {
      "cell_type": "markdown",
      "source": [
        "# Shape and Operation\n"
      ],
      "metadata": {
        "id": "4qJJxzT1Y9Cf"
      }
    },
    {
      "cell_type": "markdown",
      "source": [
        "* reshape: mengubah dimensi/shape dari sebuah numpy array\n",
        "* vstack: stack numpy arrays secara vertikal\n",
        "* hstack: stack numpy arrays secara horizontal\n",
        "* vsplit: split numpy array secara vertikal\n",
        "* hsplit: split numpy array secara horizontal"
      ],
      "metadata": {
        "id": "JUGu9_rzZBWR"
      }
    },
    {
      "cell_type": "code",
      "source": [
        "a = np.array([(1,2,3), (4,5,6)])\n",
        "a"
      ],
      "metadata": {
        "colab": {
          "base_uri": "https://localhost:8080/"
        },
        "id": "J9MlAY0faSX1",
        "outputId": "eaf8782f-2d68-4284-bc2d-ebc34351b680"
      },
      "execution_count": 38,
      "outputs": [
        {
          "output_type": "execute_result",
          "data": {
            "text/plain": [
              "array([[1, 2, 3],\n",
              "       [4, 5, 6]])"
            ]
          },
          "metadata": {},
          "execution_count": 38
        }
      ]
    },
    {
      "cell_type": "code",
      "source": [
        "a = a.reshape(3,2)\n",
        "a"
      ],
      "metadata": {
        "colab": {
          "base_uri": "https://localhost:8080/"
        },
        "id": "jdysSDFqahAM",
        "outputId": "e8a583d4-7958-4520-af88-725cbe0fc9b5"
      },
      "execution_count": 29,
      "outputs": [
        {
          "output_type": "execute_result",
          "data": {
            "text/plain": [
              "array([[1, 2],\n",
              "       [3, 4],\n",
              "       [5, 6]])"
            ]
          },
          "metadata": {},
          "execution_count": 29
        }
      ]
    },
    {
      "cell_type": "code",
      "source": [
        "b = np.array([(7,8), (9,10)])\n",
        "b"
      ],
      "metadata": {
        "colab": {
          "base_uri": "https://localhost:8080/"
        },
        "id": "xZMoXtATamF-",
        "outputId": "05b97bfa-8123-42fa-950f-ccb02d8d5a21"
      },
      "execution_count": 30,
      "outputs": [
        {
          "output_type": "execute_result",
          "data": {
            "text/plain": [
              "array([[ 7,  8],\n",
              "       [ 9, 10]])"
            ]
          },
          "metadata": {},
          "execution_count": 30
        }
      ]
    },
    {
      "cell_type": "code",
      "source": [
        "np.vstack((a,b))"
      ],
      "metadata": {
        "colab": {
          "base_uri": "https://localhost:8080/"
        },
        "id": "9abrXT-RaxdX",
        "outputId": "3aca7555-5056-4c39-a8e0-f62c32221f3e"
      },
      "execution_count": 34,
      "outputs": [
        {
          "output_type": "execute_result",
          "data": {
            "text/plain": [
              "array([[ 1,  2],\n",
              "       [ 3,  4],\n",
              "       [ 5,  6],\n",
              "       [ 7,  8],\n",
              "       [ 9, 10]])"
            ]
          },
          "metadata": {},
          "execution_count": 34
        }
      ]
    },
    {
      "cell_type": "code",
      "source": [
        "c = np.array([(11,12,13), (14,15,16)])\n",
        "c"
      ],
      "metadata": {
        "colab": {
          "base_uri": "https://localhost:8080/"
        },
        "id": "fGgzA0u7a2qs",
        "outputId": "345a5091-6ea9-47a9-ee6e-5642ba918b5f"
      },
      "execution_count": 35,
      "outputs": [
        {
          "output_type": "execute_result",
          "data": {
            "text/plain": [
              "array([[11, 12, 13],\n",
              "       [14, 15, 16]])"
            ]
          },
          "metadata": {},
          "execution_count": 35
        }
      ]
    },
    {
      "cell_type": "code",
      "source": [
        "d =  np.hstack((a,c))\n",
        "d"
      ],
      "metadata": {
        "colab": {
          "base_uri": "https://localhost:8080/"
        },
        "id": "hpPZ4z-_bJyp",
        "outputId": "6c426f0f-15fe-4c2b-cfd8-a540161734ac"
      },
      "execution_count": 39,
      "outputs": [
        {
          "output_type": "execute_result",
          "data": {
            "text/plain": [
              "array([[ 1,  2,  3, 11, 12, 13],\n",
              "       [ 4,  5,  6, 14, 15, 16]])"
            ]
          },
          "metadata": {},
          "execution_count": 39
        }
      ]
    },
    {
      "cell_type": "code",
      "source": [
        "np.vsplit(d,2)"
      ],
      "metadata": {
        "colab": {
          "base_uri": "https://localhost:8080/"
        },
        "id": "67kjC7qjbdY0",
        "outputId": "d0fc0a51-af0d-4f2e-aa3b-445fb58965ac"
      },
      "execution_count": 40,
      "outputs": [
        {
          "output_type": "execute_result",
          "data": {
            "text/plain": [
              "[array([[ 1,  2,  3, 11, 12, 13]]), array([[ 4,  5,  6, 14, 15, 16]])]"
            ]
          },
          "metadata": {},
          "execution_count": 40
        }
      ]
    },
    {
      "cell_type": "code",
      "source": [
        "np.hsplit(d,3)"
      ],
      "metadata": {
        "colab": {
          "base_uri": "https://localhost:8080/"
        },
        "id": "kepPuvExboDm",
        "outputId": "237a42b3-32fd-49f2-acd4-20f7d221bd8e"
      },
      "execution_count": 41,
      "outputs": [
        {
          "output_type": "execute_result",
          "data": {
            "text/plain": [
              "[array([[1, 2],\n",
              "        [4, 5]]),\n",
              " array([[ 3, 11],\n",
              "        [ 6, 14]]),\n",
              " array([[12, 13],\n",
              "        [15, 16]])]"
            ]
          },
          "metadata": {},
          "execution_count": 41
        }
      ]
    },
    {
      "cell_type": "code",
      "source": [
        "np.hsplit(d,(1,3)) # split after kolum 1 dan 3"
      ],
      "metadata": {
        "colab": {
          "base_uri": "https://localhost:8080/"
        },
        "id": "dElBj5P-b0Gc",
        "outputId": "06d56994-34d8-40ec-fb55-41a1b955ffab"
      },
      "execution_count": 42,
      "outputs": [
        {
          "output_type": "execute_result",
          "data": {
            "text/plain": [
              "[array([[1],\n",
              "        [4]]),\n",
              " array([[2, 3],\n",
              "        [5, 6]]),\n",
              " array([[11, 12, 13],\n",
              "        [14, 15, 16]])]"
            ]
          },
          "metadata": {},
          "execution_count": 42
        }
      ]
    }
  ]
}