{
  "nbformat": 4,
  "nbformat_minor": 0,
  "metadata": {
    "colab": {
      "provenance": []
    },
    "kernelspec": {
      "name": "python3",
      "display_name": "Python 3"
    },
    "language_info": {
      "name": "python"
    }
  },
  "cells": [
    {
      "cell_type": "code",
      "execution_count": null,
      "metadata": {
        "colab": {
          "base_uri": "https://localhost:8080/"
        },
        "id": "7MiClh9Gg9Rm",
        "outputId": "c6e8ece7-6a69-4b9d-ef43-496070b78122"
      },
      "outputs": [
        {
          "output_type": "execute_result",
          "data": {
            "text/plain": [
              "15"
            ]
          },
          "metadata": {},
          "execution_count": 1
        }
      ],
      "source": [
        "a = 15\n",
        "a"
      ]
    },
    {
      "cell_type": "markdown",
      "source": [
        "- ctrl+enter = run\n",
        "- shift+enter = run + jump to next cell (creat new onne if none exist)\n",
        "- alt+enter = run + insert a new code cell below it\n"
      ],
      "metadata": {
        "id": "hfVWtKvmh4Q2"
      }
    },
    {
      "cell_type": "markdown",
      "source": [
        "Shell commands"
      ],
      "metadata": {
        "id": "lyjaDPDNizs2"
      }
    },
    {
      "cell_type": "code",
      "source": [
        "!ls"
      ],
      "metadata": {
        "colab": {
          "base_uri": "https://localhost:8080/"
        },
        "id": "ZcWG8PSPi4KT",
        "outputId": "fe28bec2-08b5-4621-a5c0-16b49c67c367"
      },
      "execution_count": null,
      "outputs": [
        {
          "output_type": "stream",
          "name": "stdout",
          "text": [
            "sample_data\n"
          ]
        }
      ]
    },
    {
      "cell_type": "code",
      "source": [
        "!pwd"
      ],
      "metadata": {
        "colab": {
          "base_uri": "https://localhost:8080/"
        },
        "id": "j8WNIvKYl-Tj",
        "outputId": "71b4b185-a734-4d76-d00f-20e152a6e7b7"
      },
      "execution_count": null,
      "outputs": [
        {
          "output_type": "stream",
          "name": "stdout",
          "text": [
            "/content\n"
          ]
        }
      ]
    },
    {
      "cell_type": "markdown",
      "source": [
        "Magics"
      ],
      "metadata": {
        "id": "75tW9zec-Pa-"
      }
    },
    {
      "cell_type": "code",
      "source": [
        "import numpy as np\n",
        "\n",
        "%timeit np.linalg.eigvals(np.random.rand(100, 100))"
      ],
      "metadata": {
        "colab": {
          "base_uri": "https://localhost:8080/"
        },
        "id": "zVNOA4Zc-Szr",
        "outputId": "a21d2ab5-d059-4ba0-d0d4-8ba17ccd52f2"
      },
      "execution_count": null,
      "outputs": [
        {
          "output_type": "stream",
          "name": "stdout",
          "text": [
            "11.2 ms ± 1.99 ms per loop (mean ± std. dev. of 7 runs, 100 loops each)\n"
          ]
        }
      ]
    },
    {
      "cell_type": "code",
      "source": [
        "%%html\n",
        "<marquee style='width:30%; color:red;'>Hello Aliya!</marquee>"
      ],
      "metadata": {
        "colab": {
          "base_uri": "https://localhost:8080/",
          "height": 38
        },
        "id": "vpAQPbCj_JHi",
        "outputId": "9bb56aa1-3b3e-4330-bcbe-01485d718caa"
      },
      "execution_count": null,
      "outputs": [
        {
          "output_type": "display_data",
          "data": {
            "text/plain": [
              "<IPython.core.display.HTML object>"
            ],
            "text/html": [
              "<marquee style='width:30%; color:red;'>Hello Aliya!</marquee>\n"
            ]
          },
          "metadata": {}
        }
      ]
    },
    {
      "cell_type": "markdown",
      "source": [
        "Documentation"
      ],
      "metadata": {
        "id": "1zgP6r6DAZbK"
      }
    },
    {
      "cell_type": "code",
      "source": [
        "np.random?"
      ],
      "metadata": {
        "id": "8thQFJfUAc-F"
      },
      "execution_count": null,
      "outputs": []
    },
    {
      "cell_type": "markdown",
      "source": [
        "Markdown"
      ],
      "metadata": {
        "id": "qYCJXZR_BLBQ"
      }
    },
    {
      "cell_type": "markdown",
      "source": [
        "**Hallo** *Jooyeon*"
      ],
      "metadata": {
        "id": "rOdt02f1BaF3"
      }
    },
    {
      "cell_type": "markdown",
      "source": [
        "1. Apples\n",
        "1. Orange\n",
        "1. Manggo\n",
        "1. Watermelons"
      ],
      "metadata": {
        "id": "o7uDz4liBlr4"
      }
    },
    {
      "cell_type": "markdown",
      "source": [
        "* Apples\n",
        "* Orange\n",
        "* Manggo"
      ],
      "metadata": {
        "id": "hpGAGlAHCE6E"
      }
    },
    {
      "cell_type": "markdown",
      "source": [
        "LaTex Syntax\n",
        "Use MathJax Rendering"
      ],
      "metadata": {
        "id": "K8GpWXYDCMK-"
      }
    },
    {
      "cell_type": "markdown",
      "source": [
        "$\\sqrt{9}+1^3$"
      ],
      "metadata": {
        "id": "tJAFo0ayCowO"
      }
    },
    {
      "cell_type": "markdown",
      "source": [
        "Nama | Umur\n",
        "--- | ---\n",
        "Udin | 30 Tahun\n",
        "Agus | 15 Tahun"
      ],
      "metadata": {
        "id": "mEG3pOLECwD3"
      }
    },
    {
      "cell_type": "markdown",
      "source": [],
      "metadata": {
        "id": "VM1IWZHKDE5O"
      }
    }
  ]
}